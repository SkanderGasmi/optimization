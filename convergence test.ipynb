{
 "cells": [
  {
   "cell_type": "code",
   "execution_count": 11,
   "id": "b5df50d1",
   "metadata": {},
   "outputs": [
    {
     "name": "stdout",
     "output_type": "stream",
     "text": [
      "Convergence avec un bon pas de descente:\n",
      "Itération 1: (x, y) = (-0.50000, 0.05000)\n",
      "Itération 2: (x, y) = (-0.40000, 0.04000)\n",
      "Itération 3: (x, y) = (-0.32000, 0.03200)\n",
      "Itération 4: (x, y) = (-0.25600, 0.02560)\n",
      "Itération 5: (x, y) = (-0.20480, 0.02048)\n",
      "Itération 6: (x, y) = (-0.16384, 0.01638)\n",
      "Itération 7: (x, y) = (-0.13107, 0.01311)\n",
      "Itération 8: (x, y) = (-0.10486, 0.01049)\n",
      "Itération 9: (x, y) = (-0.08389, 0.00839)\n",
      "Itération 10: (x, y) = (-0.06711, 0.00671)\n",
      "\n",
      "Divergence avec un pas inapproprié:\n",
      "Itération 1: (x, y) = (-0.50000, 0.05000)\n",
      "Itération 2: (x, y) = (1.00000, -0.10000)\n",
      "Itération 3: (x, y) = (-2.00000, 0.20000)\n",
      "Itération 4: (x, y) = (4.00000, -0.40000)\n",
      "Itération 5: (x, y) = (-8.00000, 0.80000)\n",
      "Itération 6: (x, y) = (16.00000, -1.60000)\n",
      "Itération 7: (x, y) = (-32.00000, 3.20000)\n",
      "Itération 8: (x, y) = (64.00000, -6.40000)\n",
      "Itération 9: (x, y) = (-128.00000, 12.80000)\n",
      "Itération 10: (x, y) = (256.00000, -25.60000)\n"
     ]
    }
   ],
   "source": [
    "def descente_gradient(x, y, alpha, iterations):\n",
    "    # Itérations pour convergence\n",
    "    for i in range(iterations):\n",
    "        x_new = x - alpha * 2 * x\n",
    "        y_new = y - alpha * 2 * y\n",
    "        print(f\"Itération {i+1}: (x, y) = ({x:.5f}, {y:.5f})\")\n",
    "        x, y = x_new, y_new\n",
    "\n",
    "# Point de départ\n",
    "x_start, y_start = -0.5, 0.05\n",
    "\n",
    "# Pas de descente\n",
    "alpha_conv = 0.1\n",
    "alpha_div = 1.5\n",
    "\n",
    "# Nombre d'itérations\n",
    "iterations = 10\n",
    "\n",
    "print(\"Convergence avec un bon pas de descente:\")\n",
    "descente_gradient(x_start, y_start, alpha_conv, iterations)\n",
    "\n",
    "print(\"\\nDivergence avec un pas inapproprié:\")\n",
    "descente_gradient(x_start, y_start, alpha_div, iterations)"
   ]
  },
  {
   "cell_type": "code",
   "execution_count": null,
   "id": "9bdb244c",
   "metadata": {},
   "outputs": [],
   "source": []
  }
 ],
 "metadata": {
  "kernelspec": {
   "display_name": "Python 3 (ipykernel)",
   "language": "python",
   "name": "python3"
  },
  "language_info": {
   "codemirror_mode": {
    "name": "ipython",
    "version": 3
   },
   "file_extension": ".py",
   "mimetype": "text/x-python",
   "name": "python",
   "nbconvert_exporter": "python",
   "pygments_lexer": "ipython3",
   "version": "3.9.13"
  }
 },
 "nbformat": 4,
 "nbformat_minor": 5
}
